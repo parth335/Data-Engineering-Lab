{
 "cells": [
  {
   "cell_type": "code",
   "execution_count": null,
   "id": "fb0793ba-cf0d-4ef3-9b6b-fea278adb72a",
   "metadata": {},
   "outputs": [],
   "source": []
  },
  {
   "cell_type": "code",
   "execution_count": 3,
   "id": "fe449683-6ddc-4ae3-93f8-472ce979a303",
   "metadata": {},
   "outputs": [],
   "source": [
    "df = df.drop_duplicates()"
   ]
  },
  {
   "cell_type": "code",
   "execution_count": 2,
   "id": "bc7044cb-f271-4430-967e-91d32e17465c",
   "metadata": {},
   "outputs": [],
   "source": [
    "df = pd.read_csv('customers.csv')"
   ]
  },
  {
   "cell_type": "code",
   "execution_count": 1,
   "id": "9c609db1-96cb-473d-a91a-909ab1442459",
   "metadata": {},
   "outputs": [],
   "source": [
    "import pandas as pd\n",
    "import numpy as np\n",
    "import re"
   ]
  },
  {
   "cell_type": "code",
   "execution_count": 4,
   "id": "598ac2f7-2928-4855-b086-6d8fd24c26fb",
   "metadata": {},
   "outputs": [],
   "source": [
    "def is_valid_email(email):\n",
    "    if pd.isna(email):\n",
    "        return False\n",
    "    return re.match(r\"[^@]+@[^@]+\\.[^@]+\", str(email)) is not None\n",
    "\n",
    "df['email'] = df['email'].apply(lambda x: x if is_valid_email(x) else np.nan)"
   ]
  },
  {
   "cell_type": "code",
   "execution_count": 5,
   "id": "a86da79f-2450-4ec1-8247-22034ba5940b",
   "metadata": {},
   "outputs": [],
   "source": [
    "# 3. Set invalid ages (<=0 or NaN) to the median age\n",
    "valid_ages = df['age'].dropna()\n",
    "valid_ages = valid_ages[valid_ages > 0]\n",
    "median_age = valid_ages.median()\n",
    "df['age'] = df['age'].apply(lambda x: median_age if pd.isna(x) or x <= 0 else x)"
   ]
  },
  {
   "cell_type": "code",
   "execution_count": 6,
   "id": "7ff2115a-979b-47c4-9a9b-30c8fa68a3b8",
   "metadata": {},
   "outputs": [],
   "source": [
    "\n",
    "df['department'] = df['depar'].fillna('Aditya')\n",
    "df['city'] = df['city'].fillna('Pune')"
   ]
  },
  {
   "cell_type": "code",
   "execution_count": 8,
   "id": "2c8c68e2-5aed-43ee-8c2a-b15334962cb3",
   "metadata": {},
   "outputs": [],
   "source": [
    "df['email'] = df['email'].fillna('abc@gmail.com')"
   ]
  },
  {
   "cell_type": "code",
   "execution_count": 9,
   "id": "d94bf62b-f875-4b5c-93d9-5cff1560c724",
   "metadata": {},
   "outputs": [],
   "source": [
    "df.to_csv('employee_cleaned.csv', index=False)"
   ]
  },
  {
   "cell_type": "code",
   "execution_count": 10,
   "id": "06a96a26-0c24-477d-b6e0-31833b97c2a2",
   "metadata": {},
   "outputs": [
    {
     "name": "stdout",
     "output_type": "stream",
     "text": [
      "Data cleaning completed. Cleaned data saved to 'customers_cleaned.csv'.\n"
     ]
    }
   ],
   "source": [
    "print(\"Data cleaning completed. Cleaned data saved to 'employee_cleaned.csv'.\")"
   ]
  }
 ],
 "metadata": {
  "kernelspec": {
   "display_name": "Python [conda env:base] *",
   "language": "python",
   "name": "conda-base-py"
  },
  "language_info": {
   "codemirror_mode": {
    "name": "ipython",
    "version": 3
   },
   "file_extension": ".py",
   "mimetype": "text/x-python",
   "name": "python",
   "nbconvert_exporter": "python",
   "pygments_lexer": "ipython3",
   "version": "3.13.5"
  }
 },
 "nbformat": 4,
 "nbformat_minor": 5
}
